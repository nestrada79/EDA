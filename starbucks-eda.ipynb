{
 "cells": [
  {
   "cell_type": "code",
   "execution_count": 1,
   "id": "a73a205a",
   "metadata": {
    "_cell_guid": "b1076dfc-b9ad-4769-8c92-a6c4dae69d19",
    "_uuid": "8f2839f25d086af736a60e9eeb907d3b93b6e0e5",
    "execution": {
     "iopub.execute_input": "2023-05-18T04:06:56.615315Z",
     "iopub.status.busy": "2023-05-18T04:06:56.614645Z",
     "iopub.status.idle": "2023-05-18T04:06:56.632710Z",
     "shell.execute_reply": "2023-05-18T04:06:56.631564Z"
    },
    "papermill": {
     "duration": 0.030031,
     "end_time": "2023-05-18T04:06:56.635184",
     "exception": false,
     "start_time": "2023-05-18T04:06:56.605153",
     "status": "completed"
    },
    "tags": []
   },
   "outputs": [
    {
     "name": "stdout",
     "output_type": "stream",
     "text": [
      "/kaggle/input/starbucks-nutrition/starbucks.csv\n"
     ]
    }
   ],
   "source": [
    "# This Python 3 environment comes with many helpful analytics libraries installed\n",
    "# It is defined by the kaggle/python Docker image: https://github.com/kaggle/docker-python\n",
    "# For example, here's several helpful packages to load\n",
    "\n",
    "import numpy as np # linear algebra\n",
    "import pandas as pd # data processing, CSV file I/O (e.g. pd.read_csv)\n",
    "from pprint import pprint\n",
    "import matplotlib.pyplot as plt\n",
    "import pprint\n",
    "\n",
    "# Input data files are available in the read-only \"../input/\" directory\n",
    "# For example, running this (by clicking run or pressing Shift+Enter) will list all files under the input directory\n",
    "\n",
    "import os\n",
    "for dirname, _, filenames in os.walk('/kaggle/input'):\n",
    "    for filename in filenames:\n",
    "        print(os.path.join(dirname, filename))\n",
    "\n",
    "# You can write up to 20GB to the current directory (/kaggle/working/) that gets preserved as output when you create a version using \"Save & Run All\" \n",
    "# You can also write temporary files to /kaggle/temp/, but they won't be saved outside of the current session"
   ]
  },
  {
   "cell_type": "markdown",
   "id": "d92c3c1c",
   "metadata": {
    "papermill": {
     "duration": 0.006822,
     "end_time": "2023-05-18T04:06:56.649462",
     "exception": false,
     "start_time": "2023-05-18T04:06:56.642640",
     "status": "completed"
    },
    "tags": []
   },
   "source": [
    "# Starbucks Nutritional Information\n",
    "\n",
    "Starbucks provides comprehensive nutritional information for their food and beverage offerings, allowing customers to make informed choices based on their dietary preferences and health goals. The nutritional information includes details such as calories, fat content, carbohydrates, fiber, and protein for each menu item.\n",
    "\n",
    "By making this information readily available, Starbucks aims to empower individuals to make choices that align with their nutritional needs and preferences. Whether you're looking for lower-calorie options, watching your fat or carb intake, or seeking protein-rich alternatives, the nutritional information provided by Starbucks helps you navigate their menu with confidence.\n",
    "\n",
    "## Data Coverage\n",
    "\n",
    "The data encompasses a range of food items, from baked goods and bistro boxes to hot breakfast items, parfaits, petite treats, salads, and sandwiches. Each item is categorized based on its type, making it easier for customers to find options that suit their dietary requirements or preferences.\n",
    "\n",
    "## Transparency and Informed Decisions\n",
    "\n",
    "By offering transparent and detailed nutritional information, Starbucks reinforces its commitment to supporting customers in making informed decisions about their food choices. Whether you're enjoying a coffee break or grabbing a quick bite, the nutritional information empowers you to enjoy Starbucks' offerings while being mindful of your nutritional goals.\n"
   ]
  },
  {
   "cell_type": "markdown",
   "id": "e20cd75c",
   "metadata": {
    "papermill": {
     "duration": 0.006846,
     "end_time": "2023-05-18T04:06:56.663376",
     "exception": false,
     "start_time": "2023-05-18T04:06:56.656530",
     "status": "completed"
    },
    "tags": []
   },
   "source": [
    "---\n",
    "## Data Dictionary\n",
    "\n",
    "The data consists of nutrition facts for several Starbucks food items. It is organized in the form of a data frame with 77 observations and 7 variables.\n",
    "\n",
    "### Variables\n",
    "\n",
    "- **item**: The name of the food item (string).\n",
    "- **calories**: The number of calories in the food item (integer).\n",
    "- **fat**: The amount of fat in grams (numeric).\n",
    "- **carb**: The amount of carbohydrates in grams (numeric).\n",
    "- **fiber**: The amount of dietary fiber in grams (numeric).\n",
    "- **protein**: The amount of protein in grams (numeric).\n",
    "- **type**: The categorization of the food item, with levels bakery, bistro box, hot breakfast, parfait, petite, salad, and sandwich (factor).\n",
    "\n",
    "### Additional Information\n",
    "\n",
    "- The data frame has a RangeIndex from 0 to 76.\n",
    "- There are no missing values (non-null count is 77 for all columns).\n",
    "- The original data frame had an additional column named \"Unnamed: 0\", which has been removed for this improved data dictionary.\n",
    "\n",
    "---\n",
    "."
   ]
  },
  {
   "cell_type": "code",
   "execution_count": 2,
   "id": "674888d0",
   "metadata": {
    "execution": {
     "iopub.execute_input": "2023-05-18T04:06:56.679341Z",
     "iopub.status.busy": "2023-05-18T04:06:56.678931Z",
     "iopub.status.idle": "2023-05-18T04:06:56.718070Z",
     "shell.execute_reply": "2023-05-18T04:06:56.717132Z"
    },
    "papermill": {
     "duration": 0.049901,
     "end_time": "2023-05-18T04:06:56.720453",
     "exception": false,
     "start_time": "2023-05-18T04:06:56.670552",
     "status": "completed"
    },
    "tags": []
   },
   "outputs": [],
   "source": [
    "df = pd.read_csv('/kaggle/input/starbucks-nutrition/starbucks.csv', index_col=0)"
   ]
  },
  {
   "cell_type": "code",
   "execution_count": 3,
   "id": "5071042c",
   "metadata": {
    "execution": {
     "iopub.execute_input": "2023-05-18T04:06:56.737917Z",
     "iopub.status.busy": "2023-05-18T04:06:56.736771Z",
     "iopub.status.idle": "2023-05-18T04:06:56.770150Z",
     "shell.execute_reply": "2023-05-18T04:06:56.768935Z"
    },
    "papermill": {
     "duration": 0.044302,
     "end_time": "2023-05-18T04:06:56.772584",
     "exception": false,
     "start_time": "2023-05-18T04:06:56.728282",
     "status": "completed"
    },
    "tags": []
   },
   "outputs": [
    {
     "data": {
      "text/html": [
       "<div>\n",
       "<style scoped>\n",
       "    .dataframe tbody tr th:only-of-type {\n",
       "        vertical-align: middle;\n",
       "    }\n",
       "\n",
       "    .dataframe tbody tr th {\n",
       "        vertical-align: top;\n",
       "    }\n",
       "\n",
       "    .dataframe thead th {\n",
       "        text-align: right;\n",
       "    }\n",
       "</style>\n",
       "<table border=\"1\" class=\"dataframe\">\n",
       "  <thead>\n",
       "    <tr style=\"text-align: right;\">\n",
       "      <th></th>\n",
       "      <th>item</th>\n",
       "      <th>calories</th>\n",
       "      <th>fat</th>\n",
       "      <th>carb</th>\n",
       "      <th>fiber</th>\n",
       "      <th>protein</th>\n",
       "      <th>type</th>\n",
       "    </tr>\n",
       "  </thead>\n",
       "  <tbody>\n",
       "    <tr>\n",
       "      <th>1</th>\n",
       "      <td>8-Grain Roll</td>\n",
       "      <td>350</td>\n",
       "      <td>8.0</td>\n",
       "      <td>67</td>\n",
       "      <td>5</td>\n",
       "      <td>10</td>\n",
       "      <td>bakery</td>\n",
       "    </tr>\n",
       "    <tr>\n",
       "      <th>2</th>\n",
       "      <td>Apple Bran Muffin</td>\n",
       "      <td>350</td>\n",
       "      <td>9.0</td>\n",
       "      <td>64</td>\n",
       "      <td>7</td>\n",
       "      <td>6</td>\n",
       "      <td>bakery</td>\n",
       "    </tr>\n",
       "    <tr>\n",
       "      <th>3</th>\n",
       "      <td>Apple Fritter</td>\n",
       "      <td>420</td>\n",
       "      <td>20.0</td>\n",
       "      <td>59</td>\n",
       "      <td>0</td>\n",
       "      <td>5</td>\n",
       "      <td>bakery</td>\n",
       "    </tr>\n",
       "    <tr>\n",
       "      <th>4</th>\n",
       "      <td>Banana Nut Loaf</td>\n",
       "      <td>490</td>\n",
       "      <td>19.0</td>\n",
       "      <td>75</td>\n",
       "      <td>4</td>\n",
       "      <td>7</td>\n",
       "      <td>bakery</td>\n",
       "    </tr>\n",
       "    <tr>\n",
       "      <th>5</th>\n",
       "      <td>Birthday Cake Mini Doughnut</td>\n",
       "      <td>130</td>\n",
       "      <td>6.0</td>\n",
       "      <td>17</td>\n",
       "      <td>0</td>\n",
       "      <td>0</td>\n",
       "      <td>bakery</td>\n",
       "    </tr>\n",
       "    <tr>\n",
       "      <th>...</th>\n",
       "      <td>...</td>\n",
       "      <td>...</td>\n",
       "      <td>...</td>\n",
       "      <td>...</td>\n",
       "      <td>...</td>\n",
       "      <td>...</td>\n",
       "      <td>...</td>\n",
       "    </tr>\n",
       "    <tr>\n",
       "      <th>73</th>\n",
       "      <td>Tarragon Chicken Salad Sandwich</td>\n",
       "      <td>420</td>\n",
       "      <td>13.0</td>\n",
       "      <td>46</td>\n",
       "      <td>6</td>\n",
       "      <td>32</td>\n",
       "      <td>sandwich</td>\n",
       "    </tr>\n",
       "    <tr>\n",
       "      <th>74</th>\n",
       "      <td>Turkey &amp; Swiss Sandwich</td>\n",
       "      <td>390</td>\n",
       "      <td>13.0</td>\n",
       "      <td>36</td>\n",
       "      <td>2</td>\n",
       "      <td>34</td>\n",
       "      <td>sandwich</td>\n",
       "    </tr>\n",
       "    <tr>\n",
       "      <th>75</th>\n",
       "      <td>Greek Yogurt Honey Parfait</td>\n",
       "      <td>300</td>\n",
       "      <td>12.0</td>\n",
       "      <td>44</td>\n",
       "      <td>0</td>\n",
       "      <td>8</td>\n",
       "      <td>parfait</td>\n",
       "    </tr>\n",
       "    <tr>\n",
       "      <th>76</th>\n",
       "      <td>Peach Raspberry Yogurt Parfait</td>\n",
       "      <td>300</td>\n",
       "      <td>4.0</td>\n",
       "      <td>57</td>\n",
       "      <td>3</td>\n",
       "      <td>10</td>\n",
       "      <td>parfait</td>\n",
       "    </tr>\n",
       "    <tr>\n",
       "      <th>77</th>\n",
       "      <td>Strawberry &amp; Blueberry Yogurt Parfait</td>\n",
       "      <td>300</td>\n",
       "      <td>3.5</td>\n",
       "      <td>60</td>\n",
       "      <td>3</td>\n",
       "      <td>7</td>\n",
       "      <td>parfait</td>\n",
       "    </tr>\n",
       "  </tbody>\n",
       "</table>\n",
       "<p>77 rows × 7 columns</p>\n",
       "</div>"
      ],
      "text/plain": [
       "                                     item  calories   fat  carb  fiber  \\\n",
       "1                            8-Grain Roll       350   8.0    67      5   \n",
       "2                       Apple Bran Muffin       350   9.0    64      7   \n",
       "3                           Apple Fritter       420  20.0    59      0   \n",
       "4                         Banana Nut Loaf       490  19.0    75      4   \n",
       "5             Birthday Cake Mini Doughnut       130   6.0    17      0   \n",
       "..                                    ...       ...   ...   ...    ...   \n",
       "73        Tarragon Chicken Salad Sandwich       420  13.0    46      6   \n",
       "74                Turkey & Swiss Sandwich       390  13.0    36      2   \n",
       "75             Greek Yogurt Honey Parfait       300  12.0    44      0   \n",
       "76         Peach Raspberry Yogurt Parfait       300   4.0    57      3   \n",
       "77  Strawberry & Blueberry Yogurt Parfait       300   3.5    60      3   \n",
       "\n",
       "    protein      type  \n",
       "1        10    bakery  \n",
       "2         6    bakery  \n",
       "3         5    bakery  \n",
       "4         7    bakery  \n",
       "5         0    bakery  \n",
       "..      ...       ...  \n",
       "73       32  sandwich  \n",
       "74       34  sandwich  \n",
       "75        8   parfait  \n",
       "76       10   parfait  \n",
       "77        7   parfait  \n",
       "\n",
       "[77 rows x 7 columns]"
      ]
     },
     "execution_count": 3,
     "metadata": {},
     "output_type": "execute_result"
    }
   ],
   "source": [
    "df"
   ]
  },
  {
   "cell_type": "code",
   "execution_count": 4,
   "id": "8b8d1a1e",
   "metadata": {
    "execution": {
     "iopub.execute_input": "2023-05-18T04:06:56.789406Z",
     "iopub.status.busy": "2023-05-18T04:06:56.788974Z",
     "iopub.status.idle": "2023-05-18T04:06:56.801559Z",
     "shell.execute_reply": "2023-05-18T04:06:56.800303Z"
    },
    "papermill": {
     "duration": 0.023901,
     "end_time": "2023-05-18T04:06:56.804117",
     "exception": false,
     "start_time": "2023-05-18T04:06:56.780216",
     "status": "completed"
    },
    "tags": []
   },
   "outputs": [
    {
     "data": {
      "text/plain": [
       "<bound method NDFrame.describe of                                      item  calories   fat  carb  fiber  \\\n",
       "1                            8-Grain Roll       350   8.0    67      5   \n",
       "2                       Apple Bran Muffin       350   9.0    64      7   \n",
       "3                           Apple Fritter       420  20.0    59      0   \n",
       "4                         Banana Nut Loaf       490  19.0    75      4   \n",
       "5             Birthday Cake Mini Doughnut       130   6.0    17      0   \n",
       "..                                    ...       ...   ...   ...    ...   \n",
       "73        Tarragon Chicken Salad Sandwich       420  13.0    46      6   \n",
       "74                Turkey & Swiss Sandwich       390  13.0    36      2   \n",
       "75             Greek Yogurt Honey Parfait       300  12.0    44      0   \n",
       "76         Peach Raspberry Yogurt Parfait       300   4.0    57      3   \n",
       "77  Strawberry & Blueberry Yogurt Parfait       300   3.5    60      3   \n",
       "\n",
       "    protein      type  \n",
       "1        10    bakery  \n",
       "2         6    bakery  \n",
       "3         5    bakery  \n",
       "4         7    bakery  \n",
       "5         0    bakery  \n",
       "..      ...       ...  \n",
       "73       32  sandwich  \n",
       "74       34  sandwich  \n",
       "75        8   parfait  \n",
       "76       10   parfait  \n",
       "77        7   parfait  \n",
       "\n",
       "[77 rows x 7 columns]>"
      ]
     },
     "execution_count": 4,
     "metadata": {},
     "output_type": "execute_result"
    }
   ],
   "source": [
    "df.describe"
   ]
  },
  {
   "cell_type": "code",
   "execution_count": 5,
   "id": "46eed45e",
   "metadata": {
    "execution": {
     "iopub.execute_input": "2023-05-18T04:06:56.821392Z",
     "iopub.status.busy": "2023-05-18T04:06:56.820981Z",
     "iopub.status.idle": "2023-05-18T04:06:56.843597Z",
     "shell.execute_reply": "2023-05-18T04:06:56.842193Z"
    },
    "papermill": {
     "duration": 0.033508,
     "end_time": "2023-05-18T04:06:56.845598",
     "exception": false,
     "start_time": "2023-05-18T04:06:56.812090",
     "status": "completed"
    },
    "tags": []
   },
   "outputs": [
    {
     "name": "stdout",
     "output_type": "stream",
     "text": [
      "<class 'pandas.core.frame.DataFrame'>\n",
      "Int64Index: 77 entries, 1 to 77\n",
      "Data columns (total 7 columns):\n",
      " #   Column    Non-Null Count  Dtype  \n",
      "---  ------    --------------  -----  \n",
      " 0   item      77 non-null     object \n",
      " 1   calories  77 non-null     int64  \n",
      " 2   fat       77 non-null     float64\n",
      " 3   carb      77 non-null     int64  \n",
      " 4   fiber     77 non-null     int64  \n",
      " 5   protein   77 non-null     int64  \n",
      " 6   type      77 non-null     object \n",
      "dtypes: float64(1), int64(4), object(2)\n",
      "memory usage: 4.8+ KB\n"
     ]
    }
   ],
   "source": [
    "df.info()"
   ]
  },
  {
   "cell_type": "code",
   "execution_count": 6,
   "id": "264d67a2",
   "metadata": {
    "execution": {
     "iopub.execute_input": "2023-05-18T04:06:56.862845Z",
     "iopub.status.busy": "2023-05-18T04:06:56.861968Z",
     "iopub.status.idle": "2023-05-18T04:06:56.870737Z",
     "shell.execute_reply": "2023-05-18T04:06:56.869738Z"
    },
    "papermill": {
     "duration": 0.01958,
     "end_time": "2023-05-18T04:06:56.872866",
     "exception": false,
     "start_time": "2023-05-18T04:06:56.853286",
     "status": "completed"
    },
    "tags": []
   },
   "outputs": [
    {
     "data": {
      "text/plain": [
       "item        0\n",
       "calories    0\n",
       "fat         0\n",
       "carb        0\n",
       "fiber       0\n",
       "protein     0\n",
       "type        0\n",
       "dtype: int64"
      ]
     },
     "execution_count": 6,
     "metadata": {},
     "output_type": "execute_result"
    }
   ],
   "source": [
    "df.isnull().sum()"
   ]
  },
  {
   "cell_type": "markdown",
   "id": "3224b6e1",
   "metadata": {
    "papermill": {
     "duration": 0.007774,
     "end_time": "2023-05-18T04:06:56.888516",
     "exception": false,
     "start_time": "2023-05-18T04:06:56.880742",
     "status": "completed"
    },
    "tags": []
   },
   "source": [
    "--- \n",
    "\n",
    "## Questions to ask\n",
    "\n",
    "1. What are the highest and lowest calorie food items offered by Starbucks?\n",
    "2. Which food items have the highest amount of fat, carbohydrates, fiber, and protein?\n",
    "3. Are there any food items that are particularly rich in fiber but low in fat and carbohydrates?\n",
    "4. What is the average calorie content of each food item type (bakery, bistro box, hot breakfast, etc.)?\n",
    "5. Is there a correlation between the calorie content and the amount of fat, carbohydrates, fiber, or protein in the food items?\n",
    "6. Which food item types have the highest average fat, carbohydrate, fiber, and protein content?\n",
    "7. Can we identify any trends or patterns in the nutritional composition of Starbucks food items?\n",
    "8. Are there any notable differences in the nutritional profile of food items across different categories (bakery, bistro box, etc.)?\n",
    "9. Are there any food items that provide a good balance of macronutrients (fat, carbohydrates, and protein)?\n",
    "10. Can we identify any outliers or unusual values in the nutritional information?\n",
    "\n",
    "---\n"
   ]
  },
  {
   "cell_type": "markdown",
   "id": "5caddf29",
   "metadata": {
    "papermill": {
     "duration": 0.007717,
     "end_time": "2023-05-18T04:06:56.904660",
     "exception": false,
     "start_time": "2023-05-18T04:06:56.896943",
     "status": "completed"
    },
    "tags": []
   },
   "source": [
    "## 1. What are the highest and lowest calorie food items offered by Starbucks?"
   ]
  },
  {
   "cell_type": "code",
   "execution_count": 7,
   "id": "2b4a77b2",
   "metadata": {
    "execution": {
     "iopub.execute_input": "2023-05-18T04:06:56.922221Z",
     "iopub.status.busy": "2023-05-18T04:06:56.921794Z",
     "iopub.status.idle": "2023-05-18T04:06:56.930310Z",
     "shell.execute_reply": "2023-05-18T04:06:56.929006Z"
    },
    "papermill": {
     "duration": 0.020105,
     "end_time": "2023-05-18T04:06:56.932644",
     "exception": false,
     "start_time": "2023-05-18T04:06:56.912539",
     "status": "completed"
    },
    "tags": []
   },
   "outputs": [
    {
     "name": "stdout",
     "output_type": "stream",
     "text": [
      "Highest Calorie Food Item: Sausage & Cheddar Classic Breakfast Sandwich (500 calories)\n",
      "Lowest Calorie Food Item: Deluxe Fruit Blend (80 calories)\n"
     ]
    }
   ],
   "source": [
    "# Find the highest calorie food item\n",
    "highest_calorie_item = df.loc[df['calories'].idxmax(), 'item']\n",
    "highest_calorie_value = df['calories'].max()\n",
    "\n",
    "# Find the lowest calorie food item\n",
    "lowest_calorie_item = df.loc[df['calories'].idxmin(), 'item']\n",
    "lowest_calorie_value = df['calories'].min()\n",
    "\n",
    "# Print the results\n",
    "print(f\"Highest Calorie Food Item: {highest_calorie_item} ({highest_calorie_value} calories)\")\n",
    "print(f\"Lowest Calorie Food Item: {lowest_calorie_item} ({lowest_calorie_value} calories)\")\n"
   ]
  },
  {
   "cell_type": "markdown",
   "id": "f5c0152f",
   "metadata": {
    "papermill": {
     "duration": 0.007623,
     "end_time": "2023-05-18T04:06:56.948789",
     "exception": false,
     "start_time": "2023-05-18T04:06:56.941166",
     "status": "completed"
    },
    "tags": []
   },
   "source": [
    "## 2. Which food items have the highest amount of fat, carbohydrates, fiber, and protein?"
   ]
  },
  {
   "cell_type": "code",
   "execution_count": 8,
   "id": "be81b0a8",
   "metadata": {
    "execution": {
     "iopub.execute_input": "2023-05-18T04:06:56.966662Z",
     "iopub.status.busy": "2023-05-18T04:06:56.966290Z",
     "iopub.status.idle": "2023-05-18T04:06:56.975882Z",
     "shell.execute_reply": "2023-05-18T04:06:56.974631Z"
    },
    "papermill": {
     "duration": 0.02151,
     "end_time": "2023-05-18T04:06:56.978372",
     "exception": false,
     "start_time": "2023-05-18T04:06:56.956862",
     "status": "completed"
    },
    "tags": []
   },
   "outputs": [
    {
     "name": "stdout",
     "output_type": "stream",
     "text": [
      "Food Item with Highest Fat: Zucchini Walnut Muffin  (28.0 grams)\n",
      "Food Item with Highest Carbohydrates: Reduced-Fat Banana Chocolate Chip Coffee Cake (80 grams)\n",
      "Food Item with Highest Fiber: Apple Bran Muffin (7 grams)\n",
      "Food Item with Highest Protein: Turkey & Swiss Sandwich (34 grams)\n"
     ]
    }
   ],
   "source": [
    "# Find the food item with the highest amount of fat\n",
    "highest_fat_item = df.loc[df['fat'].idxmax(), 'item']\n",
    "highest_fat_value = df['fat'].max()\n",
    "\n",
    "# Find the food item with the highest amount of carbohydrates\n",
    "highest_carb_item = df.loc[df['carb'].idxmax(), 'item']\n",
    "highest_carb_value = df['carb'].max()\n",
    "\n",
    "# Find the food item with the highest amount of fiber\n",
    "highest_fiber_item = df.loc[df['fiber'].idxmax(), 'item']\n",
    "highest_fiber_value = df['fiber'].max()\n",
    "\n",
    "# Find the food item with the highest amount of protein\n",
    "highest_protein_item = df.loc[df['protein'].idxmax(), 'item']\n",
    "highest_protein_value = df['protein'].max()\n",
    "\n",
    "# Print the results\n",
    "print(f\"Food Item with Highest Fat: {highest_fat_item} ({highest_fat_value} grams)\")\n",
    "print(f\"Food Item with Highest Carbohydrates: {highest_carb_item} ({highest_carb_value} grams)\")\n",
    "print(f\"Food Item with Highest Fiber: {highest_fiber_item} ({highest_fiber_value} grams)\")\n",
    "print(f\"Food Item with Highest Protein: {highest_protein_item} ({highest_protein_value} grams)\")\n"
   ]
  },
  {
   "cell_type": "markdown",
   "id": "28f7ca15",
   "metadata": {
    "papermill": {
     "duration": 0.007843,
     "end_time": "2023-05-18T04:06:56.994443",
     "exception": false,
     "start_time": "2023-05-18T04:06:56.986600",
     "status": "completed"
    },
    "tags": []
   },
   "source": [
    "## 3. Are there any food items that are particularly rich in fiber but low in fat and carbohydrates?"
   ]
  },
  {
   "cell_type": "code",
   "execution_count": 9,
   "id": "3e138aba",
   "metadata": {
    "execution": {
     "iopub.execute_input": "2023-05-18T04:06:57.012663Z",
     "iopub.status.busy": "2023-05-18T04:06:57.012254Z",
     "iopub.status.idle": "2023-05-18T04:06:57.020466Z",
     "shell.execute_reply": "2023-05-18T04:06:57.019404Z"
    },
    "papermill": {
     "duration": 0.02013,
     "end_time": "2023-05-18T04:06:57.022720",
     "exception": false,
     "start_time": "2023-05-18T04:06:57.002590",
     "status": "completed"
    },
    "tags": []
   },
   "outputs": [
    {
     "name": "stdout",
     "output_type": "stream",
     "text": [
      "Food items that are particularly rich in fiber but low in fat and carbohydrates:\n",
      "- Starbucks Perfect Oatmeal\n",
      "- Deluxe Fruit Blend\n"
     ]
    }
   ],
   "source": [
    "# Filter food items with high fiber, low fat, and low carbohydrates\n",
    "filtered_items = df[(df['fiber'] > 0) & (df['fat'] < 5) & (df['carb'] < 30)]\n",
    "\n",
    "# Print the filtered food items using f-strings\n",
    "if filtered_items.empty:\n",
    "    print(\"No food items are particularly rich in fiber but low in fat and carbohydrates.\")\n",
    "else:\n",
    "    print(\"Food items that are particularly rich in fiber but low in fat and carbohydrates:\")\n",
    "    for item in filtered_items['item']:\n",
    "        print(f\"- {item}\")\n"
   ]
  },
  {
   "cell_type": "markdown",
   "id": "dad2c94d",
   "metadata": {
    "papermill": {
     "duration": 0.007802,
     "end_time": "2023-05-18T04:06:57.038531",
     "exception": false,
     "start_time": "2023-05-18T04:06:57.030729",
     "status": "completed"
    },
    "tags": []
   },
   "source": [
    "## 4. What is the average calorie content of each food item type (bakery, bistro box, hot breakfast, etc.)?"
   ]
  },
  {
   "cell_type": "code",
   "execution_count": 10,
   "id": "7aadf5c0",
   "metadata": {
    "execution": {
     "iopub.execute_input": "2023-05-18T04:06:57.056357Z",
     "iopub.status.busy": "2023-05-18T04:06:57.055974Z",
     "iopub.status.idle": "2023-05-18T04:06:57.065641Z",
     "shell.execute_reply": "2023-05-18T04:06:57.064124Z"
    },
    "papermill": {
     "duration": 0.02119,
     "end_time": "2023-05-18T04:06:57.067758",
     "exception": false,
     "start_time": "2023-05-18T04:06:57.046568",
     "status": "completed"
    },
    "tags": []
   },
   "outputs": [
    {
     "name": "stdout",
     "output_type": "stream",
     "text": [
      "Average Calorie Content by Food Item Type:\n",
      "- bakery: 368.78 calories\n",
      "- bistro box: 377.50 calories\n",
      "- hot breakfast: 325.00 calories\n",
      "- parfait: 300.00 calories\n",
      "- petite: 177.78 calories\n",
      "- salad: 80.00 calories\n",
      "- sandwich: 395.71 calories\n"
     ]
    }
   ],
   "source": [
    "# Calculate the average calorie content of each food item type\n",
    "average_calories = df.groupby('type')['calories'].mean()\n",
    "\n",
    "# Print the average calorie content using f-strings\n",
    "print(\"Average Calorie Content by Food Item Type:\")\n",
    "for food_type, avg_calories in average_calories.items():\n",
    "    print(f\"- {food_type}: {avg_calories:.2f} calories\")\n"
   ]
  },
  {
   "cell_type": "markdown",
   "id": "f410e331",
   "metadata": {
    "papermill": {
     "duration": 0.007718,
     "end_time": "2023-05-18T04:06:57.083832",
     "exception": false,
     "start_time": "2023-05-18T04:06:57.076114",
     "status": "completed"
    },
    "tags": []
   },
   "source": [
    "## 5. Is there a correlation between the calorie content and the amount of fat, carbohydrates, fiber, or protein in the food items?\n"
   ]
  },
  {
   "cell_type": "code",
   "execution_count": 11,
   "id": "3a979bec",
   "metadata": {
    "execution": {
     "iopub.execute_input": "2023-05-18T04:06:57.101758Z",
     "iopub.status.busy": "2023-05-18T04:06:57.101345Z",
     "iopub.status.idle": "2023-05-18T04:06:57.112141Z",
     "shell.execute_reply": "2023-05-18T04:06:57.110808Z"
    },
    "papermill": {
     "duration": 0.022584,
     "end_time": "2023-05-18T04:06:57.114501",
     "exception": false,
     "start_time": "2023-05-18T04:06:57.091917",
     "status": "completed"
    },
    "tags": []
   },
   "outputs": [
    {
     "name": "stdout",
     "output_type": "stream",
     "text": [
      "Correlation between Calorie Content and Nutrients:\n",
      "- Fat: 0.76\n",
      "- Carb: 0.67\n",
      "- Fiber: 0.26\n",
      "- Protein: 0.41\n"
     ]
    }
   ],
   "source": [
    "# Calculate the correlation between calorie content and nutrient columns\n",
    "correlation = df[['calories', 'fat', 'carb', 'fiber', 'protein']].corr()\n",
    "\n",
    "# Print the correlation using f-strings\n",
    "print(\"Correlation between Calorie Content and Nutrients:\")\n",
    "for nutrient in ['fat', 'carb', 'fiber', 'protein']:\n",
    "    corr_value = correlation.loc['calories', nutrient]\n",
    "    print(f\"- {nutrient.capitalize()}: {corr_value:.2f}\")\n"
   ]
  },
  {
   "cell_type": "markdown",
   "id": "0a5b6271",
   "metadata": {
    "papermill": {
     "duration": 0.00801,
     "end_time": "2023-05-18T04:06:57.130817",
     "exception": false,
     "start_time": "2023-05-18T04:06:57.122807",
     "status": "completed"
    },
    "tags": []
   },
   "source": [
    "## 6. Which food item types have the highest average fat, carbohydrate, fiber, and protein content?\n"
   ]
  },
  {
   "cell_type": "code",
   "execution_count": 12,
   "id": "cdf28615",
   "metadata": {
    "execution": {
     "iopub.execute_input": "2023-05-18T04:06:57.149190Z",
     "iopub.status.busy": "2023-05-18T04:06:57.148770Z",
     "iopub.status.idle": "2023-05-18T04:06:57.160503Z",
     "shell.execute_reply": "2023-05-18T04:06:57.159682Z"
    },
    "papermill": {
     "duration": 0.023573,
     "end_time": "2023-05-18T04:06:57.162671",
     "exception": false,
     "start_time": "2023-05-18T04:06:57.139098",
     "status": "completed"
    },
    "tags": []
   },
   "outputs": [
    {
     "name": "stdout",
     "output_type": "stream",
     "text": [
      "Food Item Types with the Highest Average Nutrient Content:\n",
      "- Highest Average Fat: bistro box (18.38 grams)\n",
      "- Highest Average Carb: bakery (54.34 grams)\n",
      "- Highest Average Fiber: bistro box (5.12 grams)\n",
      "- Highest Average Protein: sandwich (24.29 grams)\n"
     ]
    }
   ],
   "source": [
    "# Calculate the average nutrient content by food item type\n",
    "average_nutrients = df.groupby('type')[['fat', 'carb', 'fiber', 'protein']].mean()\n",
    "\n",
    "# Print the food item types with the highest average nutrient content using f-strings\n",
    "print(\"Food Item Types with the Highest Average Nutrient Content:\")\n",
    "for nutrient in ['fat', 'carb', 'fiber', 'protein']:\n",
    "    max_nutrient_type = average_nutrients[nutrient].idxmax()\n",
    "    max_nutrient_value = average_nutrients[nutrient].max()\n",
    "    print(f\"- Highest Average {nutrient.capitalize()}: {max_nutrient_type} ({max_nutrient_value:.2f} grams)\")\n"
   ]
  },
  {
   "cell_type": "markdown",
   "id": "39fe540c",
   "metadata": {
    "papermill": {
     "duration": 0.008057,
     "end_time": "2023-05-18T04:06:57.179335",
     "exception": false,
     "start_time": "2023-05-18T04:06:57.171278",
     "status": "completed"
    },
    "tags": []
   },
   "source": [
    "## 7. Can we identify any trends or patterns in the nutritional composition of Starbucks food items?\n"
   ]
  },
  {
   "cell_type": "code",
   "execution_count": 13,
   "id": "681e0550",
   "metadata": {
    "execution": {
     "iopub.execute_input": "2023-05-18T04:06:57.197361Z",
     "iopub.status.busy": "2023-05-18T04:06:57.196961Z",
     "iopub.status.idle": "2023-05-18T04:06:58.141407Z",
     "shell.execute_reply": "2023-05-18T04:06:58.139318Z"
    },
    "papermill": {
     "duration": 0.95669,
     "end_time": "2023-05-18T04:06:58.144235",
     "exception": false,
     "start_time": "2023-05-18T04:06:57.187545",
     "status": "completed"
    },
    "tags": []
   },
   "outputs": [
    {
     "data": {
      "image/png": "[encoded data removed]",
      "text/plain": [
       "<Figure size 640x480 with 1 Axes>"
      ]
     },
     "metadata": {},
     "output_type": "display_data"
    },
    {
     "data": {
      "image/png": "[encoded data removed]",
      "text/plain": [
       "<Figure size 640x480 with 1 Axes>"
      ]
     },
     "metadata": {},
     "output_type": "display_data"
    },
    {
     "data": {
      "image/png": "[encoded data removed]",
      "text/plain": [
       "<Figure size 640x480 with 1 Axes>"
      ]
     },
     "metadata": {},
     "output_type": "display_data"
    },
    {
     "data": {
      "image/png": "[encoded data removed]",
      "text/plain": [
       "<Figure size 640x480 with 1 Axes>"
      ]
     },
     "metadata": {},
     "output_type": "display_data"
    }
   ],
   "source": [
    "# Group the data by food item type and calculate the mean nutrient values\n",
    "mean_nutrients = df.groupby('type')[['fat', 'carb', 'fiber', 'protein']].mean()\n",
    "\n",
    "# Extract the nutrient columns\n",
    "nutrient_columns = mean_nutrients.columns\n",
    "\n",
    "# Create bar plots for each nutrient\n",
    "for nutrient in nutrient_columns:\n",
    "    # Get the mean nutrient values for each food item type\n",
    "    nutrient_values = mean_nutrients[nutrient]\n",
    "    \n",
    "    # Create the bar plot\n",
    "    plt.figure()\n",
    "    plt.bar(nutrient_values.index, nutrient_values)\n",
    "    plt.xlabel('Food Item Type')\n",
    "    plt.ylabel('Mean ' + nutrient.capitalize() + ' (grams)')\n",
    "    plt.title('Mean ' + nutrient.capitalize() + ' Content by Food Item Type')\n",
    "    plt.xticks(rotation=45)\n",
    "    plt.show()"
   ]
  },
  {
   "cell_type": "code",
   "execution_count": 14,
   "id": "8f134c15",
   "metadata": {
    "execution": {
     "iopub.execute_input": "2023-05-18T04:06:58.174322Z",
     "iopub.status.busy": "2023-05-18T04:06:58.173575Z",
     "iopub.status.idle": "2023-05-18T04:06:58.279165Z",
     "shell.execute_reply": "2023-05-18T04:06:58.277011Z"
    },
    "papermill": {
     "duration": 0.126165,
     "end_time": "2023-05-18T04:06:58.283643",
     "exception": false,
     "start_time": "2023-05-18T04:06:58.157478",
     "status": "completed"
    },
    "tags": []
   },
   "outputs": [
    {
     "name": "stdout",
     "output_type": "stream",
     "text": [
      "Summary Statistics for Nutrient Values by Food Item Type:\n",
      "                fat                                                      carb  \\\n",
      "              count       mean       std  min    25%   50%    75%   max count   \n",
      "type                                                                            \n",
      "bakery         41.0  14.560976  7.124075  1.0   9.00  16.0  19.00  28.0  41.0   \n",
      "bistro box      8.0  18.375000  6.885544  8.0  14.00  19.0  22.25  28.0   8.0   \n",
      "hot breakfast   8.0  13.687500  7.968409  2.5   9.25  13.0  18.00  28.0   8.0   \n",
      "parfait         3.0   6.500000  4.769696  3.5   3.75   4.0   8.00  12.0   3.0   \n",
      "petite          9.0   9.333333  1.802776  7.0   8.00   9.0  11.00  12.0   9.0   \n",
      "salad           1.0   0.000000       NaN  0.0   0.00   0.0   0.00   0.0   1.0   \n",
      "sandwich        7.0  14.714286  6.074929  9.0  11.50  13.0  15.50  27.0   7.0   \n",
      "\n",
      "                          ... fiber      protein                             \\\n",
      "                    mean  ...   75%  max   count       mean       std   min   \n",
      "type                      ...                                                 \n",
      "bakery         54.341463  ...  3.00  7.0    41.0   5.926829  2.969766   0.0   \n",
      "bistro box     33.625000  ...  6.00  6.0     8.0  19.125000  4.882549  13.0   \n",
      "hot breakfast  33.250000  ...  4.25  6.0     8.0  16.125000  4.853202   5.0   \n",
      "parfait        53.666667  ...  3.00  3.0     3.0   8.333333  1.527525   7.0   \n",
      "petite         23.333333  ...  0.00  0.0     9.0   1.111111  1.054093   0.0   \n",
      "salad          20.000000  ...  2.00  2.0     1.0   0.000000       NaN   0.0   \n",
      "sandwich       43.000000  ...  4.50  6.0     7.0  24.285714  8.056349  13.0   \n",
      "\n",
      "                                        \n",
      "                 25%   50%   75%   max  \n",
      "type                                    \n",
      "bakery          5.00   6.0   7.0  15.0  \n",
      "bistro box     15.75  17.5  23.5  26.0  \n",
      "hot breakfast  16.25  17.5  19.0  20.0  \n",
      "parfait         7.50   8.0   9.0  10.0  \n",
      "petite          0.00   2.0   2.0   2.0  \n",
      "salad           0.00   0.0   0.0   0.0  \n",
      "sandwich       18.50  26.0  30.0  34.0  \n",
      "\n",
      "[7 rows x 32 columns]\n"
     ]
    }
   ],
   "source": [
    "# Calculate summary statistics for each nutrient by food item type\n",
    "summary_statistics = df.groupby('type')[['fat', 'carb', 'fiber', 'protein']].describe()\n",
    "\n",
    "# Use pprint for pretty printing\n",
    "pp = pprint.PrettyPrinter()\n",
    "\n",
    "# Print the summary statistics\n",
    "print(\"Summary Statistics for Nutrient Values by Food Item Type:\")\n",
    "pp.pprint(summary_statistics)"
   ]
  },
  {
   "cell_type": "code",
   "execution_count": 15,
   "id": "d7bebe1d",
   "metadata": {
    "execution": {
     "iopub.execute_input": "2023-05-18T04:06:58.316748Z",
     "iopub.status.busy": "2023-05-18T04:06:58.316244Z",
     "iopub.status.idle": "2023-05-18T04:06:58.326356Z",
     "shell.execute_reply": "2023-05-18T04:06:58.324709Z"
    },
    "papermill": {
     "duration": 0.029433,
     "end_time": "2023-05-18T04:06:58.328628",
     "exception": false,
     "start_time": "2023-05-18T04:06:58.299195",
     "status": "completed"
    },
    "tags": []
   },
   "outputs": [
    {
     "name": "stdout",
     "output_type": "stream",
     "text": [
      "Mean Fat Content by Food Item Type:\n",
      "type\n",
      "bakery           14.560976\n",
      "bistro box       18.375000\n",
      "hot breakfast    13.687500\n",
      "parfait           6.500000\n",
      "petite            9.333333\n",
      "salad             0.000000\n",
      "sandwich         14.714286\n",
      "Name: fat, dtype: float64\n"
     ]
    }
   ],
   "source": [
    "# Calculate the mean fat content by food item type\n",
    "mean_fat_by_type = df.groupby('type')['fat'].mean()\n",
    "\n",
    "# Use pprint for pretty printing\n",
    "pp = pprint.PrettyPrinter()\n",
    "\n",
    "# Print the mean fat content by food item type\n",
    "print(\"Mean Fat Content by Food Item Type:\")\n",
    "pp.pprint(mean_fat_by_type)"
   ]
  },
  {
   "cell_type": "markdown",
   "id": "ec0b2071",
   "metadata": {
    "papermill": {
     "duration": 0.010373,
     "end_time": "2023-05-18T04:06:58.349781",
     "exception": false,
     "start_time": "2023-05-18T04:06:58.339408",
     "status": "completed"
    },
    "tags": []
   },
   "source": [
    "## 8. Are there any notable differences in the nutritional profile of food items across different categories (bakery, bistro box, etc.)?\n"
   ]
  },
  {
   "cell_type": "code",
   "execution_count": 16,
   "id": "167ca813",
   "metadata": {
    "execution": {
     "iopub.execute_input": "2023-05-18T04:06:58.372545Z",
     "iopub.status.busy": "2023-05-18T04:06:58.372188Z",
     "iopub.status.idle": "2023-05-18T04:06:58.386184Z",
     "shell.execute_reply": "2023-05-18T04:06:58.384931Z"
    },
    "papermill": {
     "duration": 0.028663,
     "end_time": "2023-05-18T04:06:58.389119",
     "exception": false,
     "start_time": "2023-05-18T04:06:58.360456",
     "status": "completed"
    },
    "tags": []
   },
   "outputs": [
    {
     "name": "stdout",
     "output_type": "stream",
     "text": [
      "Notable Differences in Nutritional Profile across Food Item Categories:\n",
      "                     fat       carb     fiber    protein\n",
      "type                                                    \n",
      "bakery          0.794742   9.471334 -0.269560  -3.553690\n",
      "bistro box      4.608766 -11.245130  2.904221   9.644481\n",
      "hot breakfast  -0.078734 -11.620130  0.029221   6.644481\n",
      "parfait        -7.266234   8.796537 -0.220779  -1.147186\n",
      "petite         -4.432900 -21.536797 -2.220779  -8.369408\n",
      "salad         -13.766234 -24.870130 -0.220779  -9.480519\n",
      "sandwich        0.948052  -1.870130  1.207792  14.805195\n"
     ]
    }
   ],
   "source": [
    "# Calculate the mean nutrient values by food item type\n",
    "mean_nutrients = df.groupby('type')[['fat', 'carb', 'fiber', 'protein']].mean()\n",
    "\n",
    "# Calculate the overall mean nutrient values\n",
    "overall_mean_nutrients = df[['fat', 'carb', 'fiber', 'protein']].mean()\n",
    "\n",
    "# Calculate the differences in nutrient values between each food item type and the overall mean\n",
    "nutrient_differences = mean_nutrients.subtract(overall_mean_nutrients, axis='columns')\n",
    "\n",
    "# Print the nutrient differences\n",
    "print(\"Notable Differences in Nutritional Profile across Food Item Categories:\")\n",
    "print(nutrient_differences)"
   ]
  },
  {
   "cell_type": "markdown",
   "id": "d51340b3",
   "metadata": {
    "papermill": {
     "duration": 0.015384,
     "end_time": "2023-05-18T04:06:58.420182",
     "exception": false,
     "start_time": "2023-05-18T04:06:58.404798",
     "status": "completed"
    },
    "tags": []
   },
   "source": [
    "**Notable Differences in Nutritional Profile across Food Item Categories:**\n",
    "\n",
    "The analysis of the nutritional profile across different food item categories reveals several notable differences in the nutrient content. Here are the conclusions based on the findings:\n",
    "\n",
    "- **Fat Content:** The bakery category exhibits a slightly higher fat content compared to the overall mean, with a difference of approximately 0.79 grams. The sandwich category also shows a slightly higher fat content, with a difference of approximately 0.95 grams.\n",
    "\n",
    "- **Carbohydrate Content:** The bistro box category stands out with a significantly lower carbohydrate content compared to the overall mean, with a difference of approximately -11.25 grams. The hot breakfast and petite categories also demonstrate lower carbohydrate content, with differences of approximately -11.62 grams and -21.54 grams, respectively.\n",
    "\n",
    "- **Fiber Content:** The bistro box category shows notably higher fiber content compared to the overall mean, with a difference of approximately 2.90 grams. Other categories, such as the sandwich and hot breakfast, also exhibit slight increases in fiber content.\n",
    "\n",
    "- **Protein Content:** The sandwich category demonstrates a significantly higher protein content compared to the overall mean, with a difference of approximately 14.81 grams. The bistro box category also has a higher protein content, with a difference of approximately 9.64 grams.\n",
    "\n",
    "These findings suggest that different food item categories have distinct nutritional profiles, potentially due to variations in ingredients, preparation methods, or portion sizes. Considering these differences can help individuals make informed dietary choices based on their specific nutritional needs and preferences.\n"
   ]
  },
  {
   "cell_type": "markdown",
   "id": "1c0a284f",
   "metadata": {
    "papermill": {
     "duration": 0.010607,
     "end_time": "2023-05-18T04:06:58.442961",
     "exception": false,
     "start_time": "2023-05-18T04:06:58.432354",
     "status": "completed"
    },
    "tags": []
   },
   "source": [
    "## 9. Are there any food items that provide a good balance of macronutrients (fat, carbohydrates, and protein)?\n"
   ]
  },
  {
   "cell_type": "code",
   "execution_count": 17,
   "id": "90d65154",
   "metadata": {
    "execution": {
     "iopub.execute_input": "2023-05-18T04:06:58.470128Z",
     "iopub.status.busy": "2023-05-18T04:06:58.468818Z",
     "iopub.status.idle": "2023-05-18T04:06:58.485312Z",
     "shell.execute_reply": "2023-05-18T04:06:58.484118Z"
    },
    "papermill": {
     "duration": 0.034281,
     "end_time": "2023-05-18T04:06:58.488081",
     "exception": false,
     "start_time": "2023-05-18T04:06:58.453800",
     "status": "completed"
    },
    "tags": []
   },
   "outputs": [
    {
     "name": "stdout",
     "output_type": "stream",
     "text": [
      "Food Items with a Good Balance of Macronutrients:\n",
      "                                            item  balance_score\n",
      "62  Sausage & Cheddar Classic Breakfast Sandwich       2.950427\n",
      "69                           Egg Salad Sandwich        2.939132\n",
      "73               Tarragon Chicken Salad Sandwich       2.747492\n",
      "42                                Cheese & Fruit       2.705824\n",
      "74                       Turkey & Swiss Sandwich       2.390861\n"
     ]
    }
   ],
   "source": [
    "# Calculate the z-scores for each nutrient (fat, carb, protein)\n",
    "z_scores = df[['fat', 'carb', 'protein']].apply(lambda x: (x - x.mean()) / x.std())\n",
    "\n",
    "# Calculate the overall balance score by summing up the z-scores\n",
    "df['balance_score'] = z_scores.sum(axis=1)\n",
    "\n",
    "# Sort the DataFrame by the balance score in descending order\n",
    "balanced_food_items = df.sort_values('balance_score', ascending=False)\n",
    "\n",
    "# Print the food items with the highest balance score\n",
    "print(\"Food Items with a Good Balance of Macronutrients:\")\n",
    "print(balanced_food_items[['item', 'balance_score']].head())"
   ]
  },
  {
   "cell_type": "markdown",
   "id": "691c6648",
   "metadata": {
    "papermill": {
     "duration": 0.010486,
     "end_time": "2023-05-18T04:06:58.510658",
     "exception": false,
     "start_time": "2023-05-18T04:06:58.500172",
     "status": "completed"
    },
    "tags": []
   },
   "source": [
    "Food Items with a Good Balance of Macronutrients:\n",
    "\n",
    "- Sausage & Cheddar Classic Breakfast Sandwich\n",
    "- Egg Salad Sandwich\n",
    "- Tarragon Chicken Salad Sandwich\n",
    "- Cheese & Fruit\n",
    "- Turkey & Swiss Sandwich\n",
    "\n",
    "These food items have the highest balance scores, indicating a relatively even distribution of macronutrients. They can be considered as options that provide a good balance of fat, carbohydrates, and protein in your diet.\n"
   ]
  },
  {
   "cell_type": "markdown",
   "id": "3b7b93e7",
   "metadata": {
    "papermill": {
     "duration": 0.010943,
     "end_time": "2023-05-18T04:06:58.532491",
     "exception": false,
     "start_time": "2023-05-18T04:06:58.521548",
     "status": "completed"
    },
    "tags": []
   },
   "source": [
    "## 10. Can we identify any outliers or unusual values in the nutritional information?"
   ]
  },
  {
   "cell_type": "code",
   "execution_count": 18,
   "id": "d018795d",
   "metadata": {
    "execution": {
     "iopub.execute_input": "2023-05-18T04:06:58.557217Z",
     "iopub.status.busy": "2023-05-18T04:06:58.556355Z",
     "iopub.status.idle": "2023-05-18T04:06:59.011685Z",
     "shell.execute_reply": "2023-05-18T04:06:59.010605Z"
    },
    "papermill": {
     "duration": 0.472951,
     "end_time": "2023-05-18T04:06:59.016420",
     "exception": false,
     "start_time": "2023-05-18T04:06:58.543469",
     "status": "completed"
    },
    "tags": []
   },
   "outputs": [
    {
     "data": {
      "image/png": "[encoded data removed]",
      "text/plain": [
       "<Figure size 1000x600 with 1 Axes>"
      ]
     },
     "metadata": {},
     "output_type": "display_data"
    }
   ],
   "source": [
    "# Select the nutrient columns for plotting\n",
    "nutrient_columns = ['fat', 'carb', 'fiber', 'protein']\n",
    "\n",
    "# Create box plots for each nutrient\n",
    "plt.figure(figsize=(10, 6))\n",
    "df[nutrient_columns].boxplot()\n",
    "plt.title('Box Plots of Nutrient Values')\n",
    "plt.xlabel('Nutrient')\n",
    "plt.ylabel('Value')\n",
    "plt.xticks(rotation=45)\n",
    "plt.show()\n"
   ]
  },
  {
   "cell_type": "markdown",
   "id": "68d1491a",
   "metadata": {
    "papermill": {
     "duration": 0.011684,
     "end_time": "2023-05-18T04:06:59.045421",
     "exception": false,
     "start_time": "2023-05-18T04:06:59.033737",
     "status": "completed"
    },
    "tags": []
   },
   "source": [
    "## Overall Summary of Findings:\n",
    "\n",
    "### The analysis of the Starbucks nutritional information dataset has provided valuable insights into various aspects of the food items. Here are the key findings based on the conducted analysis:\n",
    "\n",
    "1. Highest and Lowest Calorie Food Items: The highest calorie food item is the Sausage & Cheddar Classic Breakfast Sandwich, with 500 calories, while the Deluxe Fruit Blend has the lowest calorie count of 80 calories.\n",
    "\n",
    "2. Nutrient Profiles: Several food items stand out for having the highest content of specific nutrients. The Zucchini Walnut Muffin has the highest fat content at 28.0 grams, while the Reduced-Fat Banana Chocolate Chip Coffee Cake has the highest carbohydrate content at 80 grams. The Apple Bran Muffin leads in fiber content with 7 grams, and the Turkey & Swiss Sandwich contains the highest protein content at 34 grams.\n",
    "\n",
    "3. Fiber-Rich and Low-Fat, Low-Carb Foods: The Starbucks Perfect Oatmeal and Deluxe Fruit Blend are notable examples of food items that are rich in fiber while being low in fat and carbohydrates.\n",
    "\n",
    "4. Average Calorie Content by Food Item Type: The average calorie content varies across different food item types. For example, bakery items have an average of 368.78 calories, bistro box items have an average of 377.50 calories, and hot breakfast items have an average of 325.00 calories.\n",
    "\n",
    "5. Correlation Analysis: There is a positive correlation between calorie content and the amount of fat, carbohydrates, fiber, and protein in the food items. Fat and carbohydrate content show a higher correlation with calorie content, while fiber and protein have relatively lower correlations.\n",
    "\n",
    "6. Highest Average Nutrient Content by Food Item Type: Bistro box items have the highest average fat content at 18.38 grams, bakery items have the highest average carbohydrate content at 54.34 grams, bistro box items also lead in average fiber content at 5.12 grams, and sandwich items have the highest average protein content at 24.29 grams.\n",
    "\n",
    "7. Nutritional Composition Trends and Patterns: Analyzing the nutritional composition of Starbucks food items reveals varying nutrient profiles across different categories. Bakery items tend to have higher fat and carbohydrate content, while bistro box items have higher fiber and protein content. Identifying these patterns can assist in making informed dietary choices.\n",
    "\n",
    "8. Outliers and Unusual Values: The box plots of the nutrient values indicate potential outliers in fat and fiber content. These outliers may require further investigation to determine their validity and impact on the overall dataset.\n",
    "\n",
    "9. Food Items with Balanced Macronutrients: The Sausage & Cheddar Classic Breakfast Sandwich, Egg Salad Sandwich, Tarragon Chicken Salad Sandwich, Cheese & Fruit, and Turkey & Swiss Sandwich are identified as food items that provide a good balance of fat, carbohydrates, and protein.\n",
    "\n",
    "In conclusion, the analysis of the Starbucks nutritional information dataset provides valuable insights into the calorie content, nutrient profiles, correlations, average nutrient content by food item type, composition trends, outliers, and food items with balanced macronutrients. These findings can guide individuals in making informed choices about their dietary preferences and nutritional goals.\n"
   ]
  },
  {
   "cell_type": "code",
   "execution_count": null,
   "id": "5f978024",
   "metadata": {
    "papermill": {
     "duration": 0.010845,
     "end_time": "2023-05-18T04:06:59.067821",
     "exception": false,
     "start_time": "2023-05-18T04:06:59.056976",
     "status": "completed"
    },
    "tags": []
   },
   "outputs": [],
   "source": []
  }
 ],
 "metadata": {
  "kernelspec": {
   "display_name": "Python 3",
   "language": "python",
   "name": "python3"
  },
  "language_info": {
   "codemirror_mode": {
    "name": "ipython",
    "version": 3
   },
   "file_extension": ".py",
   "mimetype": "text/x-python",
   "name": "python",
   "nbconvert_exporter": "python",
   "pygments_lexer": "ipython3",
   "version": "3.10.10"
  },
  "papermill": {
   "default_parameters": {},
   "duration": 13.926074,
   "end_time": "2023-05-18T04:06:59.900164",
   "environment_variables": {},
   "exception": null,
   "input_path": "__notebook__.ipynb",
   "output_path": "__notebook__.ipynb",
   "parameters": {},
   "start_time": "2023-05-18T04:06:45.974090",
   "version": "2.4.0"
  }
 },
 "nbformat": 4,
 "nbformat_minor": 5
}
